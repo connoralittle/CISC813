{
 "cells": [
  {
   "cell_type": "code",
   "execution_count": 88,
   "metadata": {},
   "outputs": [],
   "source": [
    "import re\n",
    "import statistics\n",
    "\n",
    "# count = 853\n",
    "# count = 2162\n",
    "count = 21\n",
    "\n",
    "successes = []\n",
    "failures = []\n",
    "others = []\n",
    "sol_size = []\n",
    "weak_search = []\n",
    "fsaps = []\n",
    "poisons = []\n",
    "rounds = []\n",
    "directory = \"benchmarks/RESULTS\"\n",
    "# name = \"graph7\"\n",
    "# name = \"eulerdig\"\n",
    "name = \"highly\"\n",
    "# file = \"rbp.graph7__p_graph7\"\n",
    "# file = \"rbp.graph7_friend__p_graph7_friend\"\n",
    "# file = \"rbp.graph7_2mov__p_graph7_2mov\"\n",
    "# file = \"rbp.graph7_3mov__p_graph7_3mov\"\n",
    "# file = \"rbp.graph7_2cops__p_graph7_2cops\"\n",
    "# file = \"rbp.eulerdig__p_eulerdig\"\n",
    "# file = \"rbp.eulerdig_3mov__p_eulerdig_3mov\"\n",
    "# file = \"rbp.eulerdig_friend__p_eulerdig_friend\"\n",
    "# file = \"rbp.eulerdig_2cops__p_eulerdig_2cops\"\n",
    "file = \"rbp.highly__p_highly\"\n",
    "\n",
    "for idx in range(count):\n",
    "    try:\n",
    "        with open(f\"{directory}/{name}/{file}_{idx}.out\", \"r\") as file1:\n",
    "            file_string = file1.read()\n",
    "            if \"No strong (a)cyclic solution found.\" in file_string:\n",
    "                failures.append(idx)\n",
    "            elif \"Strong cyclic solution found.\" in file_string:\n",
    "                successes.append(idx)\n",
    "            else:\n",
    "                others.append(idx)\n",
    "\n",
    "                \n",
    "            sol_size.append(int(re.findall(r'\\d+', re.findall(r'Solution Size: \\d+', file_string)[0])[0]))\n",
    "            weak_search.append(int(re.findall(r'\\d+', re.findall(r'# Weak Searches: \\d+', file_string)[0])[0]))\n",
    "            fsaps.append(int(re.findall(r'\\d+', re.findall(r'FSAP Size: \\d+', file_string)[0])[0]))\n",
    "            poisons.append(int(re.findall(r'\\d+', re.findall(r'Poison Count: \\d+', file_string)[0])[0]))\n",
    "            rounds.append(int(re.findall(r'\\d+', re.findall(r'# Rounds: \\d+', file_string)[0])[0]))\n",
    "\n",
    "    except:\n",
    "        continue"
   ]
  },
  {
   "cell_type": "code",
   "execution_count": 89,
   "metadata": {},
   "outputs": [
    {
     "name": "stdout",
     "output_type": "stream",
     "text": [
      "# successes: 0\n",
      "# failures: 21\n",
      "# other?: 0\n",
      "# weak search average: 76.52380952380952\n",
      "# solution size average: 38.57142857142857\n",
      "# rounds average: 4.285714285714286\n",
      "# fsap average: 672.1904761904761\n",
      "# poisons average: 65.19047619047619\n"
     ]
    }
   ],
   "source": [
    "print(f\"# successes: {len(successes)}\")\n",
    "print(f\"# failures: {len(failures)}\")\n",
    "print(f\"# other?: {len(others)}\")\n",
    "print(f\"# weak search average: {statistics.mean(weak_search)}\")\n",
    "print(f\"# solution size average: {statistics.mean(sol_size)}\")\n",
    "print(f\"# rounds average: {statistics.mean(rounds)}\")\n",
    "print(f\"# fsap average: {statistics.mean(fsaps)}\")\n",
    "print(f\"# poisons average: {statistics.mean(poisons)}\")"
   ]
  },
  {
   "cell_type": "code",
   "execution_count": 29,
   "metadata": {},
   "outputs": [
    {
     "name": "stdout",
     "output_type": "stream",
     "text": [
      "[1967]\n"
     ]
    }
   ],
   "source": [
    "print(others)"
   ]
  }
 ],
 "metadata": {
  "kernelspec": {
   "display_name": "Python 3",
   "language": "python",
   "name": "python3"
  },
  "language_info": {
   "codemirror_mode": {
    "name": "ipython",
    "version": 3
   },
   "file_extension": ".py",
   "mimetype": "text/x-python",
   "name": "python",
   "nbconvert_exporter": "python",
   "pygments_lexer": "ipython3",
   "version": "3.11.3"
  }
 },
 "nbformat": 4,
 "nbformat_minor": 2
}
